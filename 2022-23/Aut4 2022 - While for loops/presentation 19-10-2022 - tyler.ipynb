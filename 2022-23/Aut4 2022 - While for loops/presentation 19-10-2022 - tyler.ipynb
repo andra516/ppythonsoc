{
 "cells": [
  {
   "cell_type": "markdown",
   "id": "79f0acc4",
   "metadata": {},
   "source": [
    "## Poynting's Python Society\n",
    "Wednesday 19th October 2022\n"
   ]
  },
  {
   "cell_type": "markdown",
   "id": "fa468c89",
   "metadata": {
    "slideshow": {
     "slide_type": "slide"
    }
   },
   "source": [
    "# While and For loops"
   ]
  },
  {
   "cell_type": "markdown",
   "id": "c4559fcd",
   "metadata": {
    "slideshow": {
     "slide_type": "fragment"
    }
   },
   "source": [
    "#### What are they?"
   ]
  },
  {
   "cell_type": "markdown",
   "id": "03066f6b",
   "metadata": {
    "slideshow": {
     "slide_type": "fragment"
    }
   },
   "source": [
    "###### What is the point?"
   ]
  },
  {
   "cell_type": "markdown",
   "id": "ce193fc1",
   "metadata": {
    "slideshow": {
     "slide_type": "slide"
    }
   },
   "source": [
    "## While Loops:\n",
    "* While loops are used primarily for keeping a loop of code going while a statement is true."
   ]
  },
  {
   "cell_type": "markdown",
   "id": "675fa4e8",
   "metadata": {
    "slideshow": {
     "slide_type": "fragment"
    }
   },
   "source": [
    "* While loops are passed in the code when the code no longer is true for the condition that was set."
   ]
  },
  {
   "cell_type": "markdown",
   "id": "a7148ad2",
   "metadata": {
    "slideshow": {
     "slide_type": "fragment"
    }
   },
   "source": [
    "<center><img src='while_for1.jpg' width=\"600\" height=\"600\"></center>"
   ]
  },
  {
   "cell_type": "markdown",
   "id": "f4a54803",
   "metadata": {
    "slideshow": {
     "slide_type": "subslide"
    }
   },
   "source": [
    "### Small examples:"
   ]
  },
  {
   "cell_type": "code",
   "execution_count": 1,
   "id": "04059d63",
   "metadata": {
    "slideshow": {
     "slide_type": "fragment"
    }
   },
   "outputs": [
    {
     "name": "stdout",
     "output_type": "stream",
     "text": [
      "1\n",
      "2\n",
      "3\n",
      "4\n",
      "5\n",
      "\n",
      "fizix\n"
     ]
    }
   ],
   "source": [
    "i = 0\n",
    "while i < 5:\n",
    "    i = i + 1\n",
    "    print(i)\n",
    "print('\\nfizix') #'\\n' creates a new line"
   ]
  },
  {
   "cell_type": "markdown",
   "id": "88d4b601",
   "metadata": {
    "slideshow": {
     "slide_type": "fragment"
    }
   },
   "source": [
    "* The code loops through the while loop until `i = 5` where it stops and moves onto the rest of the code.\n",
    "* Note that the code doesn't immediately pass through as soon as the condition is met but after it finishes the current loop."
   ]
  },
  {
   "cell_type": "code",
   "execution_count": 2,
   "id": "85679a8e",
   "metadata": {
    "slideshow": {
     "slide_type": "fragment"
    }
   },
   "outputs": [
    {
     "name": "stdout",
     "output_type": "stream",
     "text": [
      "The condition is met\n",
      "The condition is met\n",
      "The condition is met\n",
      "The condition is met\n",
      "The condition is met\n",
      "The condition is met\n",
      "The loop has ended\n"
     ]
    }
   ],
   "source": [
    "count = 0\n",
    "while count <= 5:\n",
    "    print(\"The condition is met\")\n",
    "    count += 1 # same as count = count + 1\n",
    "print(\"The loop has ended\")"
   ]
  },
  {
   "cell_type": "markdown",
   "id": "3d2819bd",
   "metadata": {
    "slideshow": {
     "slide_type": "subslide"
    }
   },
   "source": [
    "### More complicated examples using If and Else statements:"
   ]
  },
  {
   "cell_type": "code",
   "execution_count": 3,
   "id": "b3cbe498",
   "metadata": {
    "slideshow": {
     "slide_type": "fragment"
    }
   },
   "outputs": [
    {
     "name": "stdout",
     "output_type": "stream",
     "text": [
      "1\n",
      "2\n",
      "3\n",
      "5\n",
      "6\n",
      "7\n",
      "8\n"
     ]
    }
   ],
   "source": [
    "i = 0\n",
    "while i < 8:\n",
    "    i += 1\n",
    "    if i == 4:\n",
    "        continue\n",
    "    print(i)"
   ]
  },
  {
   "cell_type": "markdown",
   "id": "8042443a",
   "metadata": {
    "slideshow": {
     "slide_type": "fragment"
    }
   },
   "source": [
    "* This identifies when the value of $i$ is equal to 4 and continues the loop from the start."
   ]
  },
  {
   "cell_type": "markdown",
   "id": "12aa7818",
   "metadata": {
    "slideshow": {
     "slide_type": "fragment"
    }
   },
   "source": [
    "* If statements use the same conditions as while loops but carry the code on instead of looping it."
   ]
  },
  {
   "cell_type": "code",
   "execution_count": 20,
   "id": "494aeadb",
   "metadata": {
    "slideshow": {
     "slide_type": "subslide"
    }
   },
   "outputs": [
    {
     "name": "stdout",
     "output_type": "stream",
     "text": [
      "1\n",
      "2\n",
      "3\n",
      "This is the fourth number\n",
      "5\n",
      "Now this is the sixth number\n",
      "\n",
      "End of loop\n"
     ]
    }
   ],
   "source": [
    "i = 0\n",
    "while i < 6:\n",
    "    i += 1\n",
    "    if i == 4:\n",
    "        print(\"This is the fourth number\")\n",
    "    elif i == 6: # Else if - a combination of else and if\n",
    "        print(\"Now this is the sixth number\")\n",
    "    else:\n",
    "        print(i)\n",
    "else:\n",
    "    print('\\nEnd of loop')"
   ]
  },
  {
   "cell_type": "markdown",
   "id": "f9d56a05",
   "metadata": {
    "slideshow": {
     "slide_type": "fragment"
    }
   },
   "source": [
    "* Else statements can be paired with while or if statements to do other things during a loop."
   ]
  },
  {
   "cell_type": "markdown",
   "id": "61394e67",
   "metadata": {
    "slideshow": {
     "slide_type": "subslide"
    }
   },
   "source": [
    "### Even more complicated stuff:"
   ]
  },
  {
   "cell_type": "markdown",
   "id": "96e3760d",
   "metadata": {
    "slideshow": {
     "slide_type": "fragment"
    }
   },
   "source": [
    "* This is a little guessing game that makes you guess the right number\n",
    "* I will explain what each thing does:"
   ]
  },
  {
   "cell_type": "code",
   "execution_count": 5,
   "id": "059df0be",
   "metadata": {
    "slideshow": {
     "slide_type": "fragment"
    }
   },
   "outputs": [
    {
     "name": "stdout",
     "output_type": "stream",
     "text": [
      "53\n",
      "Guess a number between 1 and 100: 53\n",
      "You got it right!\n"
     ]
    }
   ],
   "source": [
    "import random\n",
    "n = random.randint(1, 100) # this chooses a random number between 1 and 100\n",
    "print(n)\n",
    "guess = int(input('Guess a number between 1 and 100: ')) #this will get you to input a number\n",
    "while n != \"guess\":\n",
    "    if guess < n:\n",
    "        print(\"Too Low!\")\n",
    "        guess = int(input('Guess a number between 1 and 100: ')) #this resets the input\n",
    "    elif guess > n:\n",
    "        print(\"Too High!\")\n",
    "        guess = int(input('Guess a number between 1 and 100: '))\n",
    "    else:\n",
    "        print(\"You got it right!\")\n",
    "        break #break stops the loop as well as if a condition is met"
   ]
  },
  {
   "cell_type": "markdown",
   "id": "3acc9a33",
   "metadata": {
    "slideshow": {
     "slide_type": "slide"
    }
   },
   "source": [
    "## For Loops:\n",
    "* For loops are used in a similar way but loop over the values from a list, string or other sequence of values."
   ]
  },
  {
   "cell_type": "markdown",
   "id": "d7c3683d",
   "metadata": {
    "slideshow": {
     "slide_type": "fragment"
    }
   },
   "source": [
    "* For loops take items from a sequence and loop over them until the last item is reached."
   ]
  },
  {
   "cell_type": "markdown",
   "id": "ac4072bf",
   "metadata": {
    "slideshow": {
     "slide_type": "fragment"
    }
   },
   "source": [
    "<center><img src='while_for2.jpg' width=\"600\" height=\"600\"></center>"
   ]
  },
  {
   "cell_type": "markdown",
   "id": "d504cd9f",
   "metadata": {
    "slideshow": {
     "slide_type": "subslide"
    }
   },
   "source": [
    "### Examples:"
   ]
  },
  {
   "cell_type": "code",
   "execution_count": 6,
   "id": "f31b5bad",
   "metadata": {
    "slideshow": {
     "slide_type": "fragment"
    }
   },
   "outputs": [
    {
     "name": "stdout",
     "output_type": "stream",
     "text": [
      "1\n",
      "2\n",
      "Three\n",
      "4\n",
      "5\n"
     ]
    }
   ],
   "source": [
    "sequence = [1,2,3,4,5] #list of numbers\n",
    "for i in sequence:\n",
    "    if i == 3:\n",
    "        print('Three')\n",
    "        continue\n",
    "    print(i)\n",
    "    "
   ]
  },
  {
   "cell_type": "code",
   "execution_count": 7,
   "id": "274c70db",
   "metadata": {
    "slideshow": {
     "slide_type": "fragment"
    }
   },
   "outputs": [
    {
     "name": "stdout",
     "output_type": "stream",
     "text": [
      "f\n",
      "i\n",
      "z\n",
      "i\n",
      "x\n"
     ]
    }
   ],
   "source": [
    "name = 'fizix'\n",
    "for j in name: # j here can be named any variable (does not have to be i or j, etc)\n",
    "    print(j)"
   ]
  },
  {
   "cell_type": "code",
   "execution_count": 8,
   "id": "bb22de27",
   "metadata": {
    "slideshow": {
     "slide_type": "fragment"
    }
   },
   "outputs": [
    {
     "name": "stdout",
     "output_type": "stream",
     "text": [
      "We\n",
      "Are\n",
      "Coding\n"
     ]
    }
   ],
   "source": [
    "list = ['We', \"Are\", 'Coding']\n",
    "for words in list:\n",
    "    print(words)"
   ]
  },
  {
   "cell_type": "markdown",
   "id": "a2d57846",
   "metadata": {
    "slideshow": {
     "slide_type": "fragment"
    }
   },
   "source": [
    "* This works in a similar way to the while loop when used like this, but can be used in different ways..."
   ]
  },
  {
   "cell_type": "code",
   "execution_count": 9,
   "id": "58b5722e",
   "metadata": {
    "slideshow": {
     "slide_type": "subslide"
    }
   },
   "outputs": [
    {
     "name": "stdout",
     "output_type": "stream",
     "text": [
      "Sum =  115\n",
      "Average =  23.0\n"
     ]
    }
   ],
   "source": [
    "list_of_numbers = [10,15,30,20,40]\n",
    "sum_of_numbers = 0\n",
    "for i in list_of_numbers:\n",
    "    sum_of_numbers = sum_of_numbers + i\n",
    "    \n",
    "print('Sum = ', sum_of_numbers)\n",
    "average = sum_of_numbers / len(list_of_numbers) #len() gets the length of a list of numbers\n",
    "print('Average = ', average)"
   ]
  },
  {
   "cell_type": "markdown",
   "id": "ddc4ebaa",
   "metadata": {
    "slideshow": {
     "slide_type": "fragment"
    }
   },
   "source": [
    "* The for loop can be used for summing the values of a list of numbers, as shown above. These can then be used to get other values by calculating it in code."
   ]
  },
  {
   "cell_type": "markdown",
   "id": "388f3287",
   "metadata": {
    "slideshow": {
     "slide_type": "fragment"
    }
   },
   "source": [
    "* Other calculations can make use of a list using loops to get less basic answers"
   ]
  },
  {
   "cell_type": "code",
   "execution_count": 10,
   "id": "07b3f8bb",
   "metadata": {
    "slideshow": {
     "slide_type": "subslide"
    }
   },
   "outputs": [
    {
     "name": "stdout",
     "output_type": "stream",
     "text": [
      "[ 1.  2.  3.  4.  5.  6.  7.  8.  9. 10. 11. 12. 13. 14. 15. 16. 17. 18.\n",
      " 19. 20.]\n",
      "[1.0, 4.0, 9.0, 16.0, 25.0, 36.0, 49.0, 64.0, 81.0, 100.0, 121.0, 144.0, 169.0, 196.0, 225.0, 256.0, 289.0, 324.0, 361.0, 400.0]\n"
     ]
    }
   ],
   "source": [
    "import numpy as np # a very useful package you will definitely use a lot when making your own code\n",
    "numbers = np.linspace(1, 20, 20)\n",
    "\n",
    "square_numbers = []\n",
    "for i in numbers:\n",
    "    square = i ** 2\n",
    "    square_numbers.append(square)\n",
    "\n",
    "print(numbers)\n",
    "print(square_numbers)"
   ]
  },
  {
   "cell_type": "markdown",
   "id": "227bf3b5",
   "metadata": {
    "slideshow": {
     "slide_type": "fragment"
    }
   },
   "source": [
    "* The for loop here squares each number in the sequence and adds it to a new list defined as `square_numbers = []`. The empty list is used so that each new value can be appended onto the list (using `.append()`) as the loop carries on.\n",
    "* This allows us to do much more complicated calculations."
   ]
  },
  {
   "cell_type": "markdown",
   "id": "26a01001",
   "metadata": {
    "slideshow": {
     "slide_type": "subslide"
    }
   },
   "source": [
    "### Other sequences:\n",
    "* The for loop does not have to use an existing sequence to loop over. Another useful thing to use is `range()`.\n",
    "    * `range()` makes a sequence of values from a start point to an end point. By default, the range goes from 0 to 1 less than the value put in the range function. It takes integer steps."
   ]
  },
  {
   "cell_type": "code",
   "execution_count": 11,
   "id": "0d276a1e",
   "metadata": {
    "slideshow": {
     "slide_type": "fragment"
    }
   },
   "outputs": [
    {
     "name": "stdout",
     "output_type": "stream",
     "text": [
      "0\n",
      "1\n",
      "2\n",
      "3\n",
      "4\n"
     ]
    }
   ],
   "source": [
    "for i in range(5):\n",
    "    print(i)"
   ]
  },
  {
   "cell_type": "markdown",
   "id": "5ee383f6",
   "metadata": {
    "slideshow": {
     "slide_type": "-"
    }
   },
   "source": [
    "* This can be changed to have a starting value and a step size."
   ]
  },
  {
   "cell_type": "code",
   "execution_count": 12,
   "id": "b3920517",
   "metadata": {
    "slideshow": {
     "slide_type": "fragment"
    }
   },
   "outputs": [
    {
     "name": "stdout",
     "output_type": "stream",
     "text": [
      "0\n",
      "2\n",
      "4\n",
      "6\n",
      "8\n",
      "\n",
      "23\n",
      "26\n",
      "29\n"
     ]
    }
   ],
   "source": [
    "for i in range(0, 10, 2): # starts at 0, stops at less than 10 in steps of 2\n",
    "    print(i)\n",
    "print()\n",
    "for j in range(23, 30, 3):\n",
    "    print(j)"
   ]
  },
  {
   "cell_type": "markdown",
   "id": "ada3db86",
   "metadata": {
    "slideshow": {
     "slide_type": "-"
    }
   },
   "source": [
    "* This however only does integer steps, so for using values that are not integers between steps, using a differently defined sequence can be more useful."
   ]
  },
  {
   "cell_type": "markdown",
   "id": "2ad4dc75",
   "metadata": {
    "slideshow": {
     "slide_type": "slide"
    }
   },
   "source": [
    "## Nested loops:\n",
    "* Sometimes you may need to loop over more than one thing at the same time, requring you to put a loop inside a loop.\n",
    "* When the loop begins, a loop nested within a loop will start and finish and then the first loop will begin again, looping over the nested loop until the first loop is finished.\n",
    "### For example, a times table:"
   ]
  },
  {
   "cell_type": "code",
   "execution_count": 1,
   "id": "6f74a7d7",
   "metadata": {
    "slideshow": {
     "slide_type": "fragment"
    }
   },
   "outputs": [
    {
     "name": "stdout",
     "output_type": "stream",
     "text": [
      "1 times table:  [1, 2, 3, 4, 5, 6, 7, 8, 9, 10] \n",
      "\n",
      "2 times table:  [2, 4, 6, 8, 10, 12, 14, 16, 18, 20] \n",
      "\n",
      "3 times table:  [3, 6, 9, 12, 15, 18, 21, 24, 27, 30] \n",
      "\n",
      "4 times table:  [4, 8, 12, 16, 20, 24, 28, 32, 36, 40] \n",
      "\n",
      "5 times table:  [5, 10, 15, 20, 25, 30, 35, 40, 45, 50] \n",
      "\n",
      "6 times table:  [6, 12, 18, 24, 30, 36, 42, 48, 54, 60] \n",
      "\n",
      "7 times table:  [7, 14, 21, 28, 35, 42, 49, 56, 63, 70] \n",
      "\n",
      "8 times table:  [8, 16, 24, 32, 40, 48, 56, 64, 72, 80] \n",
      "\n",
      "9 times table:  [9, 18, 27, 36, 45, 54, 63, 72, 81, 90] \n",
      "\n",
      "10 times table:  [10, 20, 30, 40, 50, 60, 70, 80, 90, 100] \n",
      "\n",
      "wow\n"
     ]
    }
   ],
   "source": [
    "for i in range(1, 11): #numbers 1 to 10\n",
    "    count = 0\n",
    "    times_table = []\n",
    "    while count < 10:\n",
    "        count += 1\n",
    "        times_table.append(count * i)\n",
    "    print(i, 'times table: ', times_table, '\\n')\n",
    "print('wow')"
   ]
  },
  {
   "cell_type": "markdown",
   "id": "5583ba5a",
   "metadata": {
    "slideshow": {
     "slide_type": "subslide"
    }
   },
   "source": [
    "### Prime Numbers:"
   ]
  },
  {
   "cell_type": "code",
   "execution_count": 14,
   "id": "cf2fc2ac",
   "metadata": {
    "slideshow": {
     "slide_type": "fragment"
    }
   },
   "outputs": [
    {
     "name": "stdout",
     "output_type": "stream",
     "text": [
      "[2, 3, 5, 7, 11, 13, 17, 19, 23, 29, 31, 37, 41, 43, 47, 53, 59, 61, 67, 71, 73, 79, 83, 89, 97]\n"
     ]
    }
   ],
   "source": [
    "number = 100\n",
    "\n",
    "primes = []\n",
    "for i in range(2, number + 1): #started at 2 as 1 is not a prime number\n",
    "    for j in range(2, int(i ** 0.5) + 1): # the second part of the range here is to avoid double counting\n",
    "        if i%j == 0: # this checks if the division of i and j has any remainder\n",
    "            break # \n",
    "    else:\n",
    "        primes.append(i)\n",
    "print(primes)"
   ]
  },
  {
   "cell_type": "markdown",
   "id": "206f0397",
   "metadata": {},
   "source": [
    "* The nested loop checks if any number less than `i` in the first loop is divisible by it, and if there is, the second loop continues to the next value of `i` to see if it has any factors. It loops through again."
   ]
  },
  {
   "cell_type": "markdown",
   "id": "d69e504c",
   "metadata": {
    "slideshow": {
     "slide_type": "slide"
    }
   },
   "source": [
    "## Other notable uses of loops:\n",
    "* A loop can be used alongside a list to select certain values from a list.\n",
    "* As you can choose a specific value in a list by using square brackets as its index, you can use loops to use this to your advantage."
   ]
  },
  {
   "cell_type": "code",
   "execution_count": 3,
   "id": "e4cd36fb",
   "metadata": {
    "slideshow": {
     "slide_type": "-"
    }
   },
   "outputs": [
    {
     "name": "stdout",
     "output_type": "stream",
     "text": [
      "Maths\n",
      "Theoretical\n"
     ]
    }
   ],
   "source": [
    "subjects = ['Maths', 'Nuclear', 'Particle', 'Theoretical', 'Astro', 'Geology?', 'straight fizix']\n",
    "print(subjects[0])\n",
    "print(subjects[3])"
   ]
  },
  {
   "cell_type": "code",
   "execution_count": 7,
   "id": "b10a2e37",
   "metadata": {
    "slideshow": {
     "slide_type": "fragment"
    }
   },
   "outputs": [
    {
     "name": "stdout",
     "output_type": "stream",
     "text": [
      "Maths\n",
      "Nuclear\n",
      "Particle\n",
      "Theoretical\n",
      "Astro\n",
      "Geology?\n",
      "straight fizix\n"
     ]
    }
   ],
   "source": [
    "for i in range(len(subjects)):\n",
    "    print(subjects[i])\n",
    "    "
   ]
  },
  {
   "cell_type": "markdown",
   "id": "946e6dd3",
   "metadata": {
    "slideshow": {
     "slide_type": "subslide"
    }
   },
   "source": [
    "This can be used for summing over previous values in the list:\n",
    "### Example: sequences of numbers\n",
    "* take a function thats next number depends on its previous 2 terms $n_{i+1} = 3n_i - 2n_{i-1}$. We can use this property to find the next numbers of the sequence. If $n_0 = 5$ and $n_1 = 6$, what are the next 10 numbers in the sequence?"
   ]
  },
  {
   "cell_type": "code",
   "execution_count": 9,
   "id": "71783e7c",
   "metadata": {
    "slideshow": {
     "slide_type": "fragment"
    }
   },
   "outputs": [
    {
     "name": "stdout",
     "output_type": "stream",
     "text": [
      "[5, 6, 8, 12, 20, 36, 68, 132, 260, 516, 1028, 2052]\n",
      "\n",
      "The next 10 values in the sequence are:  [8, 12, 20, 36, 68, 132, 260, 516, 1028, 2052]\n"
     ]
    }
   ],
   "source": [
    "sequence = []\n",
    "sequence.append(5)\n",
    "sequence.append(6)\n",
    "\n",
    "n = 10\n",
    "for i in range(1, n+1): # n+1 is used as range() goes from 1 to one less than the second value in the function.\n",
    "    next_in_sequence = 3 * sequence[i] - 2 * sequence[i-1]\n",
    "    sequence.append(next_in_sequence)\n",
    "    \n",
    "print(sequence)\n",
    "\n",
    "print('\\nThe next 10 values in the sequence are: ', sequence[2:])"
   ]
  },
  {
   "cell_type": "markdown",
   "id": "1b8aea31",
   "metadata": {
    "slideshow": {
     "slide_type": "fragment"
    }
   },
   "source": [
    "Something like this could easily be adapted into calculating the values in the Fibonacci series."
   ]
  }
 ],
 "metadata": {
  "celltoolbar": "Slideshow",
  "kernelspec": {
   "display_name": "Python 3 (ipykernel)",
   "language": "python",
   "name": "python3"
  },
  "language_info": {
   "codemirror_mode": {
    "name": "ipython",
    "version": 3
   },
   "file_extension": ".py",
   "mimetype": "text/x-python",
   "name": "python",
   "nbconvert_exporter": "python",
   "pygments_lexer": "ipython3",
   "version": "3.8.8"
  }
 },
 "nbformat": 4,
 "nbformat_minor": 5
}
