{
 "cells": [
  {
   "cell_type": "markdown",
   "metadata": {
    "slideshow": {
     "slide_type": "-"
    }
   },
   "source": [
    "# Poynting's Python Society\n",
    "Wednesday 26th October 2022"
   ]
  },
  {
   "cell_type": "markdown",
   "metadata": {
    "slideshow": {
     "slide_type": "slide"
    }
   },
   "source": [
    "# Functions in Python"
   ]
  },
  {
   "cell_type": "markdown",
   "metadata": {
    "slideshow": {
     "slide_type": "fragment"
    }
   },
   "source": [
    "#### What is a function?"
   ]
  },
  {
   "cell_type": "markdown",
   "metadata": {
    "slideshow": {
     "slide_type": "fragment"
    }
   },
   "source": [
    "* A function is a code block that runs only when called"
   ]
  },
  {
   "cell_type": "markdown",
   "metadata": {
    "slideshow": {
     "slide_type": "fragment"
    }
   },
   "source": [
    "* It takes as arguments some data, called parameters"
   ]
  },
  {
   "cell_type": "markdown",
   "metadata": {
    "slideshow": {
     "slide_type": "fragment"
    }
   },
   "source": [
    "* It returns, as a result, other data"
   ]
  },
  {
   "cell_type": "markdown",
   "metadata": {
    "slideshow": {
     "slide_type": "slide"
    }
   },
   "source": [
    "##### Why are functions useful?"
   ]
  },
  {
   "cell_type": "markdown",
   "metadata": {
    "slideshow": {
     "slide_type": "fragment"
    }
   },
   "source": [
    "* They allow the same piece of code to run multiple times"
   ]
  },
  {
   "cell_type": "markdown",
   "metadata": {
    "slideshow": {
     "slide_type": "fragment"
    }
   },
   "source": [
    "* They break long programs up into smaller components"
   ]
  },
  {
   "cell_type": "markdown",
   "metadata": {
    "slideshow": {
     "slide_type": "fragment"
    }
   },
   "source": [
    "* Functions can be shared and used by other programmers"
   ]
  },
  {
   "cell_type": "markdown",
   "metadata": {
    "slideshow": {
     "slide_type": "subslide"
    }
   },
   "source": [
    "### Quick examples: \n",
    "1) Add two numbers, a and b, and return the result of addition"
   ]
  },
  {
   "cell_type": "code",
   "execution_count": 3,
   "metadata": {
    "slideshow": {
     "slide_type": "fragment"
    }
   },
   "outputs": [
    {
     "name": "stdout",
     "output_type": "stream",
     "text": [
      "12\n"
     ]
    }
   ],
   "source": [
    "def addition(a, b):  # def is the keyword which defines a function\n",
    "    return a + b # to let a function return a value, use the return statement\n",
    "\n",
    "a = 5\n",
    "b = 7\n",
    "result = addition(a, b) # calling the addition function\n",
    "\n",
    "# alternatively, simply use result = addition(5, 7)\n",
    "\n",
    "print(result)\n",
    "\n"
   ]
  },
  {
   "cell_type": "markdown",
   "metadata": {
    "slideshow": {
     "slide_type": "fragment"
    }
   },
   "source": [
    "##### Note:\n",
    "* Parameters are the variables listed inside the parentheses in the function definition.\n",
    "* Arguments are the values that are sent to the function when it is called."
   ]
  },
  {
   "cell_type": "markdown",
   "metadata": {
    "slideshow": {
     "slide_type": "subslide"
    }
   },
   "source": [
    "2) Function which returns the full name of a person"
   ]
  },
  {
   "cell_type": "code",
   "execution_count": 2,
   "metadata": {
    "slideshow": {
     "slide_type": "fragment"
    }
   },
   "outputs": [
    {
     "name": "stdout",
     "output_type": "stream",
     "text": [
      "Rob Smith\n"
     ]
    }
   ],
   "source": [
    "def full_name(first_name, last_name): \n",
    "    name = first_name + \" \" + last_name # The \" \" is needed in order to have a space between the words\n",
    "    return name\n",
    "\n",
    "# keyword arguments\n",
    "first_name = \"Rob\"\n",
    "last_name = \"Smith\"\n",
    "\n",
    "print(full_name(first_name, last_name))"
   ]
  },
  {
   "cell_type": "markdown",
   "metadata": {
    "slideshow": {
     "slide_type": "fragment"
    }
   },
   "source": [
    "##### Note:\n",
    "* This function expects 2 arguments: first_name and last_name\n",
    "* if you try to call the function with 1 or 3 arguments (e.g. by calling full_name(first_name) ), you will get an error"
   ]
  },
  {
   "cell_type": "markdown",
   "metadata": {
    "slideshow": {
     "slide_type": "subslide"
    }
   },
   "source": [
    "### A more complicated example\n",
    "Given a list of numbers, return a list containing the squares of the original numbers"
   ]
  },
  {
   "cell_type": "code",
   "execution_count": 3,
   "metadata": {
    "slideshow": {
     "slide_type": "fragment"
    }
   },
   "outputs": [
    {
     "name": "stdout",
     "output_type": "stream",
     "text": [
      "[1, 4, 9, 16, 25, 36]\n"
     ]
    }
   ],
   "source": [
    "def square(numbers):\n",
    "    for i in range(len(numbers)):\n",
    "        numbers[i] = numbers[i]**2  # substituting the original number with its square\n",
    "    return numbers\n",
    "\n",
    "nums = [1, 2, 3, 4, 5, 6]\n",
    "print(square(nums))"
   ]
  },
  {
   "cell_type": "markdown",
   "metadata": {
    "slideshow": {
     "slide_type": "subslide"
    }
   },
   "source": [
    "### Arbitrary Arguments, *args:\n",
    "If we do not know how many arguments will be passed into our function, we add a * before the parameter name in the function definition:"
   ]
  },
  {
   "cell_type": "code",
   "execution_count": 4,
   "metadata": {
    "slideshow": {
     "slide_type": "fragment"
    }
   },
   "outputs": [
    {
     "name": "stdout",
     "output_type": "stream",
     "text": [
      "My favourite colour is blue\n"
     ]
    }
   ],
   "source": [
    "def fav_colour(*colours):\n",
    "    return \"My favourite colour is \" + colours[1]\n",
    "\n",
    "c = fav_colour(\"red\", \"blue\", \"green\", \"yellow\")\n",
    "print(c)"
   ]
  },
  {
   "cell_type": "markdown",
   "metadata": {
    "slideshow": {
     "slide_type": "subslide"
    }
   },
   "source": [
    "### Default Parameter Value\n"
   ]
  },
  {
   "cell_type": "code",
   "execution_count": 5,
   "metadata": {
    "slideshow": {
     "slide_type": "fragment"
    }
   },
   "outputs": [
    {
     "name": "stdout",
     "output_type": "stream",
     "text": [
      "25\n",
      "125\n"
     ]
    }
   ],
   "source": [
    "def power(number, n=3): # 3 is the default value of our parameter n\n",
    "    return number**n\n",
    "\n",
    "print(power(5, 2)) # using n=2 as power\n",
    "print(power(5)) # using n=3 as power"
   ]
  },
  {
   "cell_type": "markdown",
   "metadata": {
    "slideshow": {
     "slide_type": "subslide"
    }
   },
   "source": [
    "##### Note:\n",
    "* In a funtion the parameters with default arguments must be placed after the parameters without a default argument "
   ]
  },
  {
   "cell_type": "code",
   "execution_count": 6,
   "metadata": {
    "slideshow": {
     "slide_type": "fragment"
    }
   },
   "outputs": [
    {
     "ename": "SyntaxError",
     "evalue": "non-default argument follows default argument (Temp/ipykernel_17072/4241765117.py, line 1)",
     "output_type": "error",
     "traceback": [
      "\u001b[1;36m  File \u001b[1;32m\"C:\\Users\\joing\\AppData\\Local\\Temp/ipykernel_17072/4241765117.py\"\u001b[1;36m, line \u001b[1;32m1\u001b[0m\n\u001b[1;33m    def power(n=3, number): # 3 is the default value of our parameter n\u001b[0m\n\u001b[1;37m                         ^\u001b[0m\n\u001b[1;31mSyntaxError\u001b[0m\u001b[1;31m:\u001b[0m non-default argument follows default argument\n"
     ]
    }
   ],
   "source": [
    "def power(n=3, number): # 3 is the default value of our parameter n\n",
    "    return number**n\n",
    "\n",
    "print(power(5, 2)) # using n=2 as power\n",
    "print(power(5)) # using n=3 as power"
   ]
  },
  {
   "cell_type": "markdown",
   "metadata": {
    "slideshow": {
     "slide_type": "subslide"
    }
   },
   "source": [
    "### The pass Statement\n",
    "It is useful to leave a function definition (or a part of it) empty. The way to do it is by using the *pass* statement:"
   ]
  },
  {
   "cell_type": "code",
   "execution_count": null,
   "metadata": {
    "slideshow": {
     "slide_type": "fragment"
    }
   },
   "outputs": [],
   "source": [
    "def odd_numbers(numbers): \n",
    "    odds = [] # create an empty list in which odd numbers are stored\n",
    "    for i in range(len(numbers)):\n",
    "        if numbers[i]%2==0: # check if the i-th number of the list is even\n",
    "            pass # if even do nothing\n",
    "        else:\n",
    "            odds.append(numbers[i])\n",
    "    return odds\n",
    "\n",
    "nums = [1, 2, 3, 4, 5, 6, 7, 8]\n",
    "print(odd_numbers(nums))"
   ]
  },
  {
   "cell_type": "markdown",
   "metadata": {
    "slideshow": {
     "slide_type": "subslide"
    }
   },
   "source": [
    "### Recursion\n",
    "A function in python can be recursive, which means a defined function can call itself"
   ]
  },
  {
   "cell_type": "code",
   "execution_count": null,
   "metadata": {
    "slideshow": {
     "slide_type": "fragment"
    }
   },
   "outputs": [],
   "source": [
    "def factorial(num):\n",
    "    if num == 1 or num == 0:\n",
    "        return 1\n",
    "    else:\n",
    "        return (num * factorial(num-1)) # Calling factorial into factorial\n",
    "    \n",
    "num = 5\n",
    "print(factorial(num))"
   ]
  },
  {
   "cell_type": "markdown",
   "metadata": {
    "slideshow": {
     "slide_type": "fragment"
    }
   },
   "source": [
    "##### Note:\n",
    "* Recursion can be very confusing\n",
    "* It could lead to infinite loops\n",
    "* Best way to deal with it is to try and modify this recursive functions"
   ]
  }
 ],
 "metadata": {
  "celltoolbar": "Slideshow",
  "kernelspec": {
   "display_name": "Python 3 (ipykernel)",
   "language": "python",
   "name": "python3"
  },
  "language_info": {
   "codemirror_mode": {
    "name": "ipython",
    "version": 3
   },
   "file_extension": ".py",
   "mimetype": "text/x-python",
   "name": "python",
   "nbconvert_exporter": "python",
   "pygments_lexer": "ipython3",
   "version": "3.8.8"
  }
 },
 "nbformat": 4,
 "nbformat_minor": 4
}
