{
 "cells": [
  {
   "cell_type": "markdown",
   "metadata": {
    "slideshow": {
     "slide_type": "slide"
    }
   },
   "source": [
    "# PPythonSoc: NumPy & Matplotlib\n",
    "Wednesday 9th November 2022\n",
    "\n",
    "### Meeting ID: 853 5999 9098\n",
    "### Passcode: 886017\n"
   ]
  },
  {
   "cell_type": "markdown",
   "metadata": {
    "slideshow": {
     "slide_type": "slide"
    }
   },
   "source": [
    "> Q1: How do you plot on a computer?\n",
    "\n"
   ]
  },
  {
   "cell_type": "markdown",
   "metadata": {
    "slideshow": {
     "slide_type": "fragment"
    }
   },
   "source": [
    "e.g. trajectory of a ball thrown in the air...?\n",
    "\n",
    "\n",
    "<img src='ball_thrown_in_air.png' width=\"1000\" height=\"300\">\n"
   ]
  },
  {
   "cell_type": "markdown",
   "metadata": {
    "slideshow": {
     "slide_type": "fragment"
    }
   },
   "source": [
    "> A1: MATPLOTLIB!"
   ]
  },
  {
   "cell_type": "markdown",
   "metadata": {
    "slideshow": {
     "slide_type": "subslide"
    }
   },
   "source": [
    "> Q2: How should we store the position/time arrays?"
   ]
  },
  {
   "cell_type": "markdown",
   "metadata": {
    "slideshow": {
     "slide_type": "fragment"
    }
   },
   "source": [
    "> A2: NUMPY!"
   ]
  },
  {
   "cell_type": "markdown",
   "metadata": {
    "slideshow": {
     "slide_type": "slide"
    }
   },
   "source": [
    "### NumPy:\n",
    "* Creating arrays\n",
    "* Manipulating arrays\n",
    "* Cheeky tricks and built in functionality"
   ]
  },
  {
   "cell_type": "markdown",
   "metadata": {
    "slideshow": {
     "slide_type": "fragment"
    }
   },
   "source": [
    "### Matplotlib:\n",
    "Lots of ways of doing the same thing...\n",
    "* General way for plotting\n",
    "\n",
    "(lots of copy and pasting...)"
   ]
  },
  {
   "cell_type": "code",
   "execution_count": 44,
   "metadata": {
    "slideshow": {
     "slide_type": "slide"
    }
   },
   "outputs": [],
   "source": [
    "### import numpy!\n",
    "\n",
    "import numpy as np\n"
   ]
  },
  {
   "cell_type": "code",
   "execution_count": 45,
   "metadata": {
    "slideshow": {
     "slide_type": "fragment"
    }
   },
   "outputs": [
    {
     "name": "stdout",
     "output_type": "stream",
     "text": [
      "[1 2 3]\n"
     ]
    }
   ],
   "source": [
    "# To create numpy arrays, pass an 'iterable' to np.array() method\n",
    "a = np.array([1, 2, 3])\n",
    "print(a)\n"
   ]
  },
  {
   "cell_type": "markdown",
   "metadata": {
    "slideshow": {
     "slide_type": "fragment"
    }
   },
   "source": [
    "^^ Looks an awful lot like a list, but NumPy arrays are really good at <b><i>MAFFS</i></b>"
   ]
  },
  {
   "cell_type": "code",
   "execution_count": 46,
   "metadata": {
    "slideshow": {
     "slide_type": "subslide"
    }
   },
   "outputs": [],
   "source": [
    "b = np.array([4,5,6])\n",
    "a = np.array([1,2,3])\n",
    "## Add/subtract/divide/mulitply/raise to a power two arrays\n",
    "\n",
    "\n",
    "## Try do this with a list normy\n",
    "\n",
    "\n"
   ]
  },
  {
   "cell_type": "markdown",
   "metadata": {
    "slideshow": {
     "slide_type": "subslide"
    }
   },
   "source": [
    "### Linspaces and Aranges!!"
   ]
  },
  {
   "cell_type": "code",
   "execution_count": 47,
   "metadata": {
    "slideshow": {
     "slide_type": "fragment"
    }
   },
   "outputs": [],
   "source": [
    "## arange - given SPACING!\n",
    "\n",
    "\n",
    "## linspace - given QUANTITY!\n",
    "\n"
   ]
  },
  {
   "cell_type": "markdown",
   "metadata": {
    "slideshow": {
     "slide_type": "slide"
    }
   },
   "source": [
    "#### Indexing and Broadcasting"
   ]
  },
  {
   "cell_type": "code",
   "execution_count": 48,
   "metadata": {
    "slideshow": {
     "slide_type": "fragment"
    }
   },
   "outputs": [],
   "source": [
    "### How do I get the i'th item in an array?\n",
    "\n",
    "\n",
    "# Items over 10?\n",
    "\n",
    "\n",
    "\n"
   ]
  },
  {
   "cell_type": "code",
   "execution_count": 49,
   "metadata": {
    "slideshow": {
     "slide_type": "subslide"
    }
   },
   "outputs": [],
   "source": [
    "### Changing values - BROADCASTING\n",
    "\n",
    "\n"
   ]
  },
  {
   "cell_type": "markdown",
   "metadata": {
    "slideshow": {
     "slide_type": "slide"
    }
   },
   "source": [
    "## Multi-dimensional arrays\n",
    "\n",
    "* 1D array: each item referenced by one index\n",
    "* 2D array: each item referenced by TWO indices (which row? which column?)\n",
    "* 3D array: etc...\n"
   ]
  },
  {
   "cell_type": "code",
   "execution_count": 50,
   "metadata": {
    "slideshow": {
     "slide_type": "subslide"
    }
   },
   "outputs": [
    {
     "name": "stdout",
     "output_type": "stream",
     "text": [
      "[[1 2 3]\n",
      " [4 5 6]\n",
      " [7 8 9]]\n"
     ]
    }
   ],
   "source": [
    "twoD = np.array([[1,2,3],[4,5,6],[7,8,9]])\n",
    "print(twoD)\n",
    "\n"
   ]
  },
  {
   "cell_type": "markdown",
   "metadata": {
    "slideshow": {
     "slide_type": "subslide"
    }
   },
   "source": [
    "$$\n",
    "\\begin{bmatrix}\n",
    "1 & 2 & 3 \\\\\n",
    "4 & 5 & 6 \\\\\n",
    "7 & 8 & 9\n",
    "\\end{bmatrix}\n",
    "$$\n",
    "\n",
    "ROWS, then COLUMNS"
   ]
  },
  {
   "cell_type": "code",
   "execution_count": 51,
   "metadata": {
    "slideshow": {
     "slide_type": "fragment"
    }
   },
   "outputs": [],
   "source": [
    "### Accessing each item.. Specify two indices\n",
    "\n",
    "\n",
    "## By condition...\n",
    "\n",
    "\n"
   ]
  },
  {
   "cell_type": "markdown",
   "metadata": {
    "slideshow": {
     "slide_type": "slide"
    }
   },
   "source": [
    "## Plot Trajectory of Thrown Ball\n",
    "\n",
    "Santa throws a ball with initial velocity $ u $ at angle $\\alpha$ to the ground. Plot the trajectory!\n",
    "\n",
    "\n",
    "<img src=\"santa_throwing.png\" width=1000 height=300>"
   ]
  },
  {
   "cell_type": "markdown",
   "metadata": {
    "slideshow": {
     "slide_type": "fragment"
    }
   },
   "source": [
    "Suppose that when the ball hits the floor (y = 0), it stops moving immediately."
   ]
  },
  {
   "cell_type": "markdown",
   "metadata": {
    "slideshow": {
     "slide_type": "subslide"
    }
   },
   "source": [
    "### Plan:\n",
    "* Initialise a position array\n",
    "\n",
    "Use a 2D array, where the first column holds $x$ coordinates, the second column holds $y$ coordinates. Each row then records the $(x,y)$ position vector of the ball at each time!\n",
    "\n"
   ]
  },
  {
   "cell_type": "markdown",
   "metadata": {
    "slideshow": {
     "slide_type": "fragment"
    }
   },
   "source": [
    "* Initialise the time array, over which we want to calculate the position of the ball\n",
    "\n",
    "Can just be a good old 1D array"
   ]
  },
  {
   "cell_type": "markdown",
   "metadata": {
    "slideshow": {
     "slide_type": "fragment"
    }
   },
   "source": [
    "* Define constants, then do the maths!"
   ]
  },
  {
   "cell_type": "markdown",
   "metadata": {
    "slideshow": {
     "slide_type": "fragment"
    }
   },
   "source": [
    "* Find time when the ball hits the ground (y = 0), then change all other values of (x,y) hereafter.\n",
    "\n",
    "Because the ball stops dead"
   ]
  },
  {
   "cell_type": "code",
   "execution_count": 113,
   "metadata": {
    "slideshow": {
     "slide_type": "subslide"
    }
   },
   "outputs": [],
   "source": [
    "## Initialise position and time array\n",
    "nTimeSteps = 100\n",
    "r = np.zeros((nTimeSteps, 2))\n",
    "t = np.linspace(0, 2, nTimeSteps)\n",
    "\n",
    "# Define constants\n",
    "alpha = np.pi/6\n",
    "u = 5\n",
    "g = 9.81\n",
    "\n",
    "\n"
   ]
  },
  {
   "cell_type": "code",
   "execution_count": 114,
   "metadata": {
    "slideshow": {
     "slide_type": "fragment"
    }
   },
   "outputs": [],
   "source": [
    "### Do the maths\n",
    "r[:,0] = u*np.cos(alpha) * t\n",
    "r[:,1] = u*np.cos(alpha)*t - 1/2 * g * t**2 + 1\n",
    "\n",
    "# check when the ball hits the floor?\n",
    "i = int(np.argwhere(r[:,1]>0)[-1])\n",
    "r[i+1:,0] = r[i,0]\n",
    "r[i+1:,1] = r[i,1]\n",
    "\n",
    "\n",
    "\n"
   ]
  },
  {
   "cell_type": "code",
   "execution_count": 120,
   "metadata": {
    "slideshow": {
     "slide_type": "subslide"
    }
   },
   "outputs": [
    {
     "data": {
      "image/png": "[encoded data removed]",
      "text/plain": [
       "<Figure size 1440x720 with 1 Axes>"
      ]
     },
     "metadata": {
      "needs_background": "light"
     },
     "output_type": "display_data"
    }
   ],
   "source": [
    "import matplotlib.pyplot as plt\n",
    "fig = plt.figure(figsize=(20,10))\n",
    "ax = fig.add_subplot(111)\n",
    "\n",
    "ax.plot([-1,10],[0,0], 'k')\n",
    "ax.set_xlim(0, 10)\n",
    "ax.plot(r[:,0],r[:,1])\n",
    "\n",
    "# ax.legend()\n",
    "plt.show()\n"
   ]
  }
 ],
 "metadata": {
  "celltoolbar": "Slideshow",
  "kernelspec": {
   "display_name": "Python 3 (ipykernel)",
   "language": "python",
   "name": "python3"
  },
  "language_info": {
   "codemirror_mode": {
    "name": "ipython",
    "version": 3
   },
   "file_extension": ".py",
   "mimetype": "text/x-python",
   "name": "python",
   "nbconvert_exporter": "python",
   "pygments_lexer": "ipython3",
   "version": "3.8.8"
  }
 },
 "nbformat": 4,
 "nbformat_minor": 4
}
