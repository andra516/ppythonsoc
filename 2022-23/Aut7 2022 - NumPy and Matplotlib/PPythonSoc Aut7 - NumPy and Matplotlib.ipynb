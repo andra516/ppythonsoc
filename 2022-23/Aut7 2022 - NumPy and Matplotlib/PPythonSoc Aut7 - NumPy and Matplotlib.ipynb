{
 "cells": [
  {
   "cell_type": "markdown",
   "metadata": {
    "slideshow": {
     "slide_type": "slide"
    }
   },
   "source": [
    "# PPythonSoc: NumPy & Matplotlib\n",
    "Wednesday 9th November 2022\n",
    "\n",
    "### Meeting ID: 853 5999 9098\n",
    "### Passcode: 886017\n"
   ]
  },
  {
   "cell_type": "markdown",
   "metadata": {
    "slideshow": {
     "slide_type": "slide"
    }
   },
   "source": [
    "> Q1: How do you plot on a computer?\n",
    "\n"
   ]
  },
  {
   "cell_type": "markdown",
   "metadata": {
    "slideshow": {
     "slide_type": "fragment"
    }
   },
   "source": [
    "e.g. trajectory of a ball thrown in the air...?\n",
    "\n",
    "\n",
    "<img src='ball_thrown_in_air.png' width=\"1000\" height=\"300\">\n"
   ]
  },
  {
   "cell_type": "markdown",
   "metadata": {
    "slideshow": {
     "slide_type": "fragment"
    }
   },
   "source": [
    "> A1: MATPLOTLIB!"
   ]
  },
  {
   "cell_type": "markdown",
   "metadata": {
    "slideshow": {
     "slide_type": "subslide"
    }
   },
   "source": [
    "> Q2: How should we store the position/time arrays?"
   ]
  },
  {
   "cell_type": "markdown",
   "metadata": {
    "slideshow": {
     "slide_type": "fragment"
    }
   },
   "source": [
    "> A2: NUMPY!"
   ]
  },
  {
   "cell_type": "markdown",
   "metadata": {
    "slideshow": {
     "slide_type": "slide"
    }
   },
   "source": [
    "### NumPy:\n",
    "* Creating arrays\n",
    "* Manipulating arrays\n",
    "* Cheeky tricks and built in functionality"
   ]
  },
  {
   "cell_type": "markdown",
   "metadata": {
    "slideshow": {
     "slide_type": "fragment"
    }
   },
   "source": [
    "### Matplotlib:\n",
    "Lots of ways of doing the same thing...\n",
    "* General way for plotting\n",
    "\n",
    "(lots of copy and pasting...)"
   ]
  },
  {
   "cell_type": "code",
   "execution_count": 1,
   "metadata": {
    "slideshow": {
     "slide_type": "slide"
    }
   },
   "outputs": [
    {
     "data": {
      "text/plain": [
       "array([1, 2, 3])"
      ]
     },
     "execution_count": 1,
     "metadata": {},
     "output_type": "execute_result"
    }
   ],
   "source": [
    "### import numpy!\n",
    "import numpy as np\n",
    "\n",
    "np.array([1,2,3])\n"
   ]
  },
  {
   "cell_type": "code",
   "execution_count": 2,
   "metadata": {
    "slideshow": {
     "slide_type": "fragment"
    }
   },
   "outputs": [
    {
     "name": "stdout",
     "output_type": "stream",
     "text": [
      "[1 2 3]\n"
     ]
    }
   ],
   "source": [
    "# To create numpy arrays, pass an 'iterable' to np.array() method\n",
    "a = np.array([1, 2, 3])\n",
    "print(a)\n"
   ]
  },
  {
   "cell_type": "markdown",
   "metadata": {
    "slideshow": {
     "slide_type": "fragment"
    }
   },
   "source": [
    "^^ Looks an awful lot like a list, but NumPy arrays are really good at <b><i>MAFFS</i></b>"
   ]
  },
  {
   "cell_type": "code",
   "execution_count": 9,
   "metadata": {
    "slideshow": {
     "slide_type": "subslide"
    }
   },
   "outputs": [
    {
     "ename": "TypeError",
     "evalue": "unsupported operand type(s) for ** or pow(): 'list' and 'int'",
     "output_type": "error",
     "traceback": [
      "\u001b[1;31m---------------------------------------------------------------------------\u001b[0m",
      "\u001b[1;31mTypeError\u001b[0m                                 Traceback (most recent call last)",
      "Input \u001b[1;32mIn [9]\u001b[0m, in \u001b[0;36m<cell line: 7>\u001b[1;34m()\u001b[0m\n\u001b[0;32m      2\u001b[0m a \u001b[38;5;241m=\u001b[39m np\u001b[38;5;241m.\u001b[39marray([\u001b[38;5;241m1\u001b[39m,\u001b[38;5;241m2\u001b[39m,\u001b[38;5;241m3\u001b[39m])\n\u001b[0;32m      3\u001b[0m \u001b[38;5;66;03m## Add/subtract/divide/mulitply/raise to a power two arrays\u001b[39;00m\n\u001b[0;32m      4\u001b[0m \n\u001b[0;32m      5\u001b[0m \n\u001b[0;32m      6\u001b[0m \u001b[38;5;66;03m## Try do this with a list normy\u001b[39;00m\n\u001b[1;32m----> 7\u001b[0m \u001b[43m[\u001b[49m\u001b[38;5;241;43m1\u001b[39;49m\u001b[43m,\u001b[49m\u001b[38;5;241;43m2\u001b[39;49m\u001b[43m,\u001b[49m\u001b[38;5;241;43m3\u001b[39;49m\u001b[43m]\u001b[49m\u001b[43m \u001b[49m\u001b[38;5;241;43m*\u001b[39;49m\u001b[38;5;241;43m*\u001b[39;49m\u001b[43m \u001b[49m\u001b[38;5;241;43m2\u001b[39;49m\n",
      "\u001b[1;31mTypeError\u001b[0m: unsupported operand type(s) for ** or pow(): 'list' and 'int'"
     ]
    }
   ],
   "source": [
    "b = np.array([4,5,6])\n",
    "a = np.array([1,2,3])\n",
    "## Add/subtract/divide/mulitply/raise to a power two arrays\n",
    "\n",
    "\n",
    "## Try do this with a list normy\n",
    "[1,2,3] ** 2\n",
    " \n",
    "\n"
   ]
  },
  {
   "cell_type": "markdown",
   "metadata": {
    "slideshow": {
     "slide_type": "subslide"
    }
   },
   "source": [
    "### Linspaces and Aranges!!"
   ]
  },
  {
   "cell_type": "code",
   "execution_count": 15,
   "metadata": {
    "slideshow": {
     "slide_type": "fragment"
    }
   },
   "outputs": [
    {
     "name": "stdout",
     "output_type": "stream",
     "text": [
      "[0.  0.5 1.  1.5 2.  2.5 3.  3.5 4.  4.5 5.  5.5 6.  6.5 7.  7.5 8.  8.5\n",
      " 9.  9.5]\n"
     ]
    }
   ],
   "source": [
    "## arange - given SPACING!\n",
    "myArange = np.arange(0, 10, 0.5)\n",
    "\n",
    "\n",
    "\n",
    "## linspace - given QUANTITY!\n",
    "myLinspace = np.linspace(0, 10, 20, endpoint=False)\n",
    "print(myLinspace)\n",
    "\n",
    "\n"
   ]
  },
  {
   "cell_type": "markdown",
   "metadata": {
    "slideshow": {
     "slide_type": "slide"
    }
   },
   "source": [
    "#### Indexing and Broadcasting"
   ]
  },
  {
   "cell_type": "code",
   "execution_count": 25,
   "metadata": {
    "slideshow": {
     "slide_type": "fragment"
    }
   },
   "outputs": [
    {
     "name": "stdout",
     "output_type": "stream",
     "text": [
      "[ 0.  5. 10. 15. 20.]\n",
      "[15. 20.]\n"
     ]
    }
   ],
   "source": [
    "### How do I get the i'th item in an array?\n",
    "a = np.linspace(0, 20, 5)\n",
    "print(a)\n",
    "\n",
    "# Items over 10?\n",
    "print(a[a > 10])\n",
    "\n",
    "\n",
    "\n",
    "\n"
   ]
  },
  {
   "cell_type": "code",
   "execution_count": 28,
   "metadata": {
    "slideshow": {
     "slide_type": "subslide"
    }
   },
   "outputs": [
    {
     "name": "stdout",
     "output_type": "stream",
     "text": [
      "[ 0.  5. 10. 15.  0.]\n",
      "[ 0.  0. 10. 15.  0.]\n"
     ]
    }
   ],
   "source": [
    "### Changing values - BROADCASTING\n",
    "print(a)\n",
    "\n",
    "a[:2] = 0\n",
    "\n",
    "print(a)\n",
    "\n",
    "\n"
   ]
  },
  {
   "cell_type": "markdown",
   "metadata": {
    "slideshow": {
     "slide_type": "slide"
    }
   },
   "source": [
    "## Multi-dimensional arrays\n",
    "\n",
    "* 1D array: each item referenced by one index\n",
    "* 2D array: each item referenced by TWO indices (which row? which column?)\n",
    "* 3D array: etc...\n"
   ]
  },
  {
   "cell_type": "code",
   "execution_count": 29,
   "metadata": {
    "slideshow": {
     "slide_type": "subslide"
    }
   },
   "outputs": [
    {
     "name": "stdout",
     "output_type": "stream",
     "text": [
      "[[1 2 3]\n",
      " [4 5 6]\n",
      " [7 8 9]]\n"
     ]
    }
   ],
   "source": [
    "twoD = np.array([[1,2,3],[4,5,6],[7,8,9]])\n",
    "print(twoD)\n",
    "\n",
    "\n"
   ]
  },
  {
   "cell_type": "markdown",
   "metadata": {
    "slideshow": {
     "slide_type": "subslide"
    }
   },
   "source": [
    "$$\n",
    "\\begin{bmatrix}\n",
    "1 & 2 & 3 \\\\\n",
    "4 & 5 & 6 \\\\\n",
    "7 & 8 & 9\n",
    "\\end{bmatrix}\n",
    "$$\n",
    "\n",
    "ROWS, then COLUMNS"
   ]
  },
  {
   "cell_type": "code",
   "execution_count": 37,
   "metadata": {
    "slideshow": {
     "slide_type": "fragment"
    }
   },
   "outputs": [
    {
     "name": "stdout",
     "output_type": "stream",
     "text": [
      "[1 2 3]\n",
      "[6 7 8 9]\n"
     ]
    }
   ],
   "source": [
    "### Accessing each item.. Specify two indices\n",
    "print(twoD[0,:])\n",
    "\n",
    "## By condition...\n",
    "print(twoD[twoD>5])\n",
    "\n",
    "\n"
   ]
  },
  {
   "cell_type": "markdown",
   "metadata": {
    "slideshow": {
     "slide_type": "slide"
    }
   },
   "source": [
    "## Plot Trajectory of Thrown Ball\n",
    "\n",
    "Santa throws a ball with initial velocity $ u $ at angle $\\alpha$ to the ground. Plot the trajectory!\n",
    "\n",
    "\n",
    "<img src=\"santa_throwing.png\" width=1000 height=300>"
   ]
  },
  {
   "cell_type": "markdown",
   "metadata": {
    "slideshow": {
     "slide_type": "fragment"
    }
   },
   "source": [
    "Suppose that when the ball hits the floor (y = 0), it stops moving immediately."
   ]
  },
  {
   "cell_type": "markdown",
   "metadata": {
    "slideshow": {
     "slide_type": "subslide"
    }
   },
   "source": [
    "### Plan:\n",
    "* Initialise a position array\n",
    "\n",
    "Use a 2D array, where the first column holds $x$ coordinates, the second column holds $y$ coordinates. Each row then records the $(x,y)$ position vector of the ball at each time!\n",
    "\n"
   ]
  },
  {
   "cell_type": "markdown",
   "metadata": {
    "slideshow": {
     "slide_type": "fragment"
    }
   },
   "source": [
    "* Initialise the time array, over which we want to calculate the position of the ball\n",
    "\n",
    "Can just be a good old 1D array"
   ]
  },
  {
   "cell_type": "markdown",
   "metadata": {
    "slideshow": {
     "slide_type": "fragment"
    }
   },
   "source": [
    "* Define constants, then do the maths!"
   ]
  },
  {
   "cell_type": "markdown",
   "metadata": {
    "slideshow": {
     "slide_type": "fragment"
    }
   },
   "source": [
    "* Find time when the ball hits the ground (y = 0), then change all other values of (x,y) hereafter.\n",
    "\n",
    "Because the ball stops dead"
   ]
  },
  {
   "cell_type": "code",
   "execution_count": null,
   "metadata": {
    "slideshow": {
     "slide_type": "subslide"
    }
   },
   "outputs": [],
   "source": [
    "## Initialise position and time array\n",
    "nTimeSteps = 100\n",
    "r = np.zeros((nTimeSteps, 2))\n",
    "t = np.linspace(0, 2, nTimeSteps)\n",
    "\n",
    "# Define constants\n",
    "alpha = np.pi/6\n",
    "u = 5\n",
    "g = 9.81\n",
    "\n",
    "\n"
   ]
  },
  {
   "cell_type": "code",
   "execution_count": null,
   "metadata": {
    "slideshow": {
     "slide_type": "fragment"
    }
   },
   "outputs": [],
   "source": [
    "### Do the maths\n",
    "r[:,0] = u*np.cos(alpha) * t\n",
    "r[:,1] = u*np.cos(alpha)*t - 1/2 * g * t**2 + 1\n",
    "\n",
    "# check when the ball hits the floor?\n",
    "i = int(np.argwhere(r[:,1]>0)[-1])\n",
    "r[i+1:,0] = r[i,0]\n",
    "r[i+1:,1] = r[i,1]\n",
    "\n",
    "\n",
    "\n"
   ]
  },
  {
   "cell_type": "code",
   "execution_count": null,
   "metadata": {
    "slideshow": {
     "slide_type": "subslide"
    }
   },
   "outputs": [],
   "source": [
    "import matplotlib.pyplot as plt\n",
    "fig = plt.figure(figsize=(20,10))\n",
    "ax = fig.add_subplot(111)\n",
    "\n",
    "ax.plot([-1,10],[0,0], 'k')\n",
    "ax.set_xlim(0, 10)\n",
    "ax.plot(r[:,0],r[:,1])\n",
    "\n",
    "# ax.legend()\n",
    "plt.show()\n"
   ]
  }
 ],
 "metadata": {
  "celltoolbar": "Slideshow",
  "kernelspec": {
   "display_name": "Python 3 (ipykernel)",
   "language": "python",
   "name": "python3"
  },
  "language_info": {
   "codemirror_mode": {
    "name": "ipython",
    "version": 3
   },
   "file_extension": ".py",
   "mimetype": "text/x-python",
   "name": "python",
   "nbconvert_exporter": "python",
   "pygments_lexer": "ipython3",
   "version": "3.8.8"
  }
 },
 "nbformat": 4,
 "nbformat_minor": 4
}
