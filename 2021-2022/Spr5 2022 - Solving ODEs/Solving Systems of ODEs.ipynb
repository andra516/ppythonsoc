{
 "cells": [
  {
   "cell_type": "markdown",
   "id": "25d48610",
   "metadata": {
    "slideshow": {
     "slide_type": "slide"
    }
   },
   "source": [
    "# Poynting's Python Society\n",
    "\n",
    "### 3rd March 2022: Solving Systems of Ordinary Differential Equations\n",
    "\n",
    "\n"
   ]
  },
  {
   "cell_type": "markdown",
   "id": "ccb66171",
   "metadata": {
    "slideshow": {
     "slide_type": "slide"
    }
   },
   "source": [
    "Ordinary differential equations are everywhere in Physics. Some examples you might have seen so far:\n",
    "\n",
    "* SHO in 1D: $ \\frac{d^2 x}{dt^2} = -\\omega^2 x $\n",
    "\n",
    "* Particle falling under gravity, resisted by frictional force, proportional to velocity: $ \\frac{d^2 x}{dt^2} = g - \\frac{k}{m} \\frac{dx}{dt}$ \n",
    "\n",
    "\n",
    "How can you use a computer to solve these???\n",
    "\n"
   ]
  },
  {
   "cell_type": "markdown",
   "id": "7bcdf6ff",
   "metadata": {
    "slideshow": {
     "slide_type": "subslide"
    }
   },
   "source": [
    "SciPy has a handy ODE integrator!!! Here's the documentation: \n",
    "\n",
    "\n",
    "https://docs.scipy.org/doc/scipy/reference/generated/scipy.integrate.odeint.html#scipy.integrate.odeint"
   ]
  },
  {
   "cell_type": "markdown",
   "id": "3a5a3ebe",
   "metadata": {
    "slideshow": {
     "slide_type": "subslide"
    }
   },
   "source": [
    "`scipy.integrate.odeint`: \n",
    "\n",
    "* Solves 'systems' of first-order ODEs: `dy/dt = func(y, t, ...) (where y can be a vector)`. \n",
    "\n"
   ]
  },
  {
   "cell_type": "markdown",
   "id": "c2051b62",
   "metadata": {
    "slideshow": {
     "slide_type": "fragment"
    }
   },
   "source": [
    "* INPUTS: `func`: computes dy/dt at each t (a better name for this would be `derivatives`, so we'll use this from now), `y0`: initial values of dependent variables, `t`: array of times to integrate over, `args`: other parameters required by `func`."
   ]
  },
  {
   "cell_type": "markdown",
   "id": "1050c10d",
   "metadata": {
    "slideshow": {
     "slide_type": "fragment"
    }
   },
   "source": [
    "* OUTPUTS: `y`: `(len(t) x len(y0))` array of values of all depedent variables at provided times"
   ]
  },
  {
   "cell_type": "markdown",
   "id": "6e9ffa4b",
   "metadata": {
    "slideshow": {
     "slide_type": "fragment"
    }
   },
   "source": [
    "\n",
    "In 'written maths':\n",
    "\n",
    "<figure>\n",
    "    <img src=\"system of ODEs.png\">\n",
    "</figure>\n",
    "\n"
   ]
  },
  {
   "cell_type": "markdown",
   "id": "941cce8d",
   "metadata": {
    "slideshow": {
     "slide_type": "subslide"
    }
   },
   "source": [
    "#### Order: the highest number of 'derivatives' taken of any variable in an equation.\n",
    "\n",
    "e.g. $$ \\frac{d^2 x}{dt^2} = -\\omega^2 x $$ is a SECOND ORDER ODE for x."
   ]
  },
  {
   "cell_type": "markdown",
   "id": "2a01fb39",
   "metadata": {
    "slideshow": {
     "slide_type": "subslide"
    }
   },
   "source": [
    "If we were to solve this using `odeint`, we'll need to reduce the order by defining:\n",
    "\n",
    "$$ v = \\frac{dx}{dt} $$\n",
    "\n",
    "so\n",
    "\n",
    "\\begin{equation}\n",
    "\\frac{d^2 x}{dt^2} = -\\omega^2 x \\quad \\to \\left\\{\n",
    "                                            \\begin{array}{ll}\n",
    "                                                \\frac{dx}{dt} = v & \\quad \\\\\n",
    "                                                \\frac{dv}{dt} = -\\omega^2 x & \\quad\n",
    "                                            \\end{array}\\right.\n",
    "\\end{equation}"
   ]
  },
  {
   "cell_type": "markdown",
   "id": "1068622e",
   "metadata": {
    "slideshow": {
     "slide_type": "fragment"
    }
   },
   "source": [
    "ONE second order equation => TWO first order COUPLED EQUATIONS, which `odeint` can use and understands."
   ]
  },
  {
   "cell_type": "markdown",
   "id": "874a66a6",
   "metadata": {
    "slideshow": {
     "slide_type": "subslide"
    }
   },
   "source": [
    "\n",
    "<figure>\n",
    "    <img src=\"SHO as two 1st order ODEs.png\">\n",
    "</figure>\n",
    "\n",
    "\n"
   ]
  },
  {
   "cell_type": "markdown",
   "id": "027b7517",
   "metadata": {
    "slideshow": {
     "slide_type": "fragment"
    }
   },
   "source": [
    "<figure>\n",
    "    <img src=\"SHO odeint function.png\">\n",
    "</figure>"
   ]
  },
  {
   "cell_type": "markdown",
   "id": "7a3e42c1",
   "metadata": {
    "slideshow": {
     "slide_type": "slide"
    }
   },
   "source": [
    "#### So the `derivatives` (formally `func`) argument in `odeint`, should take $\\vec{y} = (x, v)$ as an input, and return the derivative of y, which we've worked out to be: $\\vec{F} = (v, -\\omega^2 x)$"
   ]
  },
  {
   "cell_type": "markdown",
   "id": "e33a7eaf",
   "metadata": {
    "slideshow": {
     "slide_type": "fragment"
    }
   },
   "source": [
    "#### Check list for solving $d^2x/dt^2 = -\\omega^2 x$: \n",
    "* Reduced one 2nd Order to two 1st equations\n",
    "* $\\vec{y} = (x, v)$\n",
    "* `derivatives` should return array: $\\vec{F} = (v, -\\omega^2 x)$\n",
    "* `odeint` should return (x, v) values at every t"
   ]
  },
  {
   "cell_type": "markdown",
   "id": "1c0eceec",
   "metadata": {
    "slideshow": {
     "slide_type": "fragment"
    }
   },
   "source": [
    "> ALSO: `derivatives` should take a `t` argument!!!!, although we don't need t to calculate derivatives, it'll be used internally by `odeint` "
   ]
  },
  {
   "cell_type": "markdown",
   "id": "d4a7472d",
   "metadata": {
    "slideshow": {
     "slide_type": "fragment"
    }
   },
   "source": [
    "To Spyder..."
   ]
  },
  {
   "cell_type": "markdown",
   "id": "da9fa254",
   "metadata": {
    "slideshow": {
     "slide_type": "slide"
    }
   },
   "source": [
    "## Summary for using `odeint`:\n",
    "\n",
    "1) Reduce the order of the equation to (multiple) 1st order equations\n"
   ]
  },
  {
   "cell_type": "markdown",
   "id": "ecb5918d",
   "metadata": {
    "slideshow": {
     "slide_type": "fragment"
    }
   },
   "source": [
    "2) Dependent variables of these equations form vector `y`\n"
   ]
  },
  {
   "cell_type": "markdown",
   "id": "4ab4fc62",
   "metadata": {
    "slideshow": {
     "slide_type": "fragment"
    }
   },
   "source": [
    "3) Work out derivatives of `y`, and write `derivatives` function\n"
   ]
  },
  {
   "cell_type": "markdown",
   "id": "2bdae016",
   "metadata": {
    "slideshow": {
     "slide_type": "fragment"
    }
   },
   "source": [
    "4) Set up integration (e.g. limits, starting values etc)"
   ]
  },
  {
   "cell_type": "markdown",
   "id": "ef02785f",
   "metadata": {
    "slideshow": {
     "slide_type": "fragment"
    }
   },
   "source": [
    "5) Plot to check :)"
   ]
  }
 ],
 "metadata": {
  "celltoolbar": "Slideshow",
  "kernelspec": {
   "display_name": "Python 3 (ipykernel)",
   "language": "python",
   "name": "python3"
  },
  "language_info": {
   "codemirror_mode": {
    "name": "ipython",
    "version": 3
   },
   "file_extension": ".py",
   "mimetype": "text/x-python",
   "name": "python",
   "nbconvert_exporter": "python",
   "pygments_lexer": "ipython3",
   "version": "3.8.8"
  }
 },
 "nbformat": 4,
 "nbformat_minor": 5
}
