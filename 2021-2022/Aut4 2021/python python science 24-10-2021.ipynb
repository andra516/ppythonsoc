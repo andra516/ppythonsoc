{
 "cells": [
  {
   "cell_type": "markdown",
   "id": "946f57e0",
   "metadata": {
    "slideshow": {
     "slide_type": "slide"
    }
   },
   "source": [
    "## Poynting's Python Society\n",
    "Sunday 24th October 2021\n"
   ]
  },
  {
   "cell_type": "markdown",
   "id": "c536715f",
   "metadata": {
    "slideshow": {
     "slide_type": "slide"
    }
   },
   "source": [
    "### What are programming languages and how does Python work?\n"
   ]
  },
  {
   "cell_type": "markdown",
   "id": "1aa47d07",
   "metadata": {
    "slideshow": {
     "slide_type": "fragment"
    }
   },
   "source": [
    "<img src='coding3.png' width=\"2000\" height=\"500\">"
   ]
  },
  {
   "cell_type": "markdown",
   "id": "26558d88",
   "metadata": {
    "slideshow": {
     "slide_type": "fragment"
    }
   },
   "source": [
    "* Interpreter languages translate syntax into machine code 'on-the-go' - i.e. whilst the script is running\n",
    "  * e.g. Python\n",
    "* Compiler languages translate syntax into machine code before actually running\n",
    "  * e.g. C++"
   ]
  },
  {
   "cell_type": "code",
   "execution_count": null,
   "id": "ac1d4dd0",
   "metadata": {
    "slideshow": {
     "slide_type": "subslide"
    }
   },
   "outputs": [],
   "source": []
  },
  {
   "cell_type": "markdown",
   "id": "76274046",
   "metadata": {
    "slideshow": {
     "slide_type": "slide"
    }
   },
   "source": [
    "### Data Types:\n",
    "\n",
    "* Strings: a sequence of characters\n"
   ]
  },
  {
   "cell_type": "code",
   "execution_count": 2,
   "id": "f43f04bb",
   "metadata": {
    "slideshow": {
     "slide_type": "fragment"
    }
   },
   "outputs": [
    {
     "name": "stdout",
     "output_type": "stream",
     "text": [
      "fizix\n"
     ]
    }
   ],
   "source": [
    "myString = 'fizix'\n",
    "\n",
    "\n",
    "print(myString)\n",
    "\n",
    "\n"
   ]
  },
  {
   "cell_type": "markdown",
   "id": "297403df",
   "metadata": {
    "slideshow": {
     "slide_type": "fragment"
    }
   },
   "source": [
    "Some useful features:"
   ]
  },
  {
   "cell_type": "code",
   "execution_count": 3,
   "id": "4d22d170",
   "metadata": {
    "slideshow": {
     "slide_type": "fragment"
    }
   },
   "outputs": [
    {
     "name": "stdout",
     "output_type": "stream",
     "text": [
      "*******\n",
      "\tfizix\n",
      "*******\n"
     ]
    }
   ],
   "source": [
    "# escape and special characters\n",
    "# e.g. newline : '\\n'\n",
    "myString = '*******\\n\\tfizix\\n*******'\n",
    "print(myString)\n"
   ]
  },
  {
   "cell_type": "markdown",
   "id": "cbd39690",
   "metadata": {
    "slideshow": {
     "slide_type": "subslide"
    }
   },
   "source": [
    "Indexing & Slicing:\n",
    "\n",
    "`var[n:m:p]`\n",
    "\n",
    "n: starting position    |    m: ending position (exclusive)    |    p: step"
   ]
  },
  {
   "cell_type": "code",
   "execution_count": 13,
   "id": "16a8289d",
   "metadata": {
    "slideshow": {
     "slide_type": "fragment"
    }
   },
   "outputs": [
    {
     "data": {
      "text/plain": [
       "'f'"
      ]
     },
     "execution_count": 13,
     "metadata": {},
     "output_type": "execute_result"
    }
   ],
   "source": [
    "# indexing & slicing:\n",
    "myString = 'fizix'\n",
    "# print first character\n",
    "myString[0]\n",
    "\n"
   ]
  },
  {
   "cell_type": "code",
   "execution_count": 14,
   "id": "145d1216",
   "metadata": {
    "slideshow": {
     "slide_type": "fragment"
    }
   },
   "outputs": [
    {
     "name": "stdout",
     "output_type": "stream",
     "text": [
      "f\n"
     ]
    }
   ],
   "source": [
    "# print last character\n",
    "print(myString[-5])\n"
   ]
  },
  {
   "cell_type": "code",
   "execution_count": 19,
   "id": "1dd698e0",
   "metadata": {
    "slideshow": {
     "slide_type": "fragment"
    }
   },
   "outputs": [
    {
     "name": "stdout",
     "output_type": "stream",
     "text": [
      "fiz\n"
     ]
    }
   ],
   "source": [
    "print(myString[0:3])\n",
    " "
   ]
  },
  {
   "cell_type": "code",
   "execution_count": 26,
   "id": "1e89ab4c",
   "metadata": {
    "slideshow": {
     "slide_type": "subslide"
    }
   },
   "outputs": [
    {
     "name": "stdout",
     "output_type": "stream",
     "text": [
      "pizix\n"
     ]
    }
   ],
   "source": [
    "# replacement\n",
    "myString = 'fizix'\n",
    "myString2 = myString.replace('f', 'p')\n",
    "print(myString2)\n",
    "\n"
   ]
  },
  {
   "cell_type": "code",
   "execution_count": 30,
   "id": "5df6085e",
   "metadata": {
    "slideshow": {
     "slide_type": "fragment"
    }
   },
   "outputs": [
    {
     "name": "stdout",
     "output_type": "stream",
     "text": [
      "FIZIX\n"
     ]
    }
   ],
   "source": [
    "myString = 'fizix'\n",
    "print(myString.upper())\n"
   ]
  },
  {
   "cell_type": "markdown",
   "id": "5c234c04",
   "metadata": {
    "slideshow": {
     "slide_type": "slide"
    }
   },
   "source": [
    "### Data Types:\n",
    "* Lists: Ordered collection of objects - does what it says on the tin"
   ]
  },
  {
   "cell_type": "code",
   "execution_count": 35,
   "id": "41d4f871",
   "metadata": {
    "slideshow": {
     "slide_type": "fragment"
    }
   },
   "outputs": [
    {
     "name": "stdout",
     "output_type": "stream",
     "text": [
      "[0.1, [0, 1], 'str']\n"
     ]
    }
   ],
   "source": [
    "# can contain any data types or objects\n",
    "myList = [0.1, [0, 1], 'str']\n",
    "print(myList)\n"
   ]
  },
  {
   "cell_type": "code",
   "execution_count": 39,
   "id": "b633de9a",
   "metadata": {
    "slideshow": {
     "slide_type": "subslide"
    }
   },
   "outputs": [
    {
     "name": "stdout",
     "output_type": "stream",
     "text": [
      "['p', 'h', 'y']\n"
     ]
    }
   ],
   "source": [
    "# indexing works exactly the same!\n",
    "myList = ['p', 'h', 'y', 's', 'i', 'c', 's']\n",
    "\n",
    "print(myList[0:3])\n",
    "    "
   ]
  },
  {
   "cell_type": "code",
   "execution_count": 42,
   "id": "31a8c026",
   "metadata": {
    "slideshow": {
     "slide_type": "fragment"
    }
   },
   "outputs": [
    {
     "name": "stdout",
     "output_type": "stream",
     "text": [
      "['p', 'h', 'y', 's', 'i', 'c', 'z']\n"
     ]
    }
   ],
   "source": [
    "# list objects support 'item assignment'\n",
    "myList[-1] = 'z'\n",
    "print(myList)\n"
   ]
  },
  {
   "cell_type": "code",
   "execution_count": 49,
   "id": "2b733077",
   "metadata": {
    "slideshow": {
     "slide_type": "subslide"
    }
   },
   "outputs": [
    {
     "name": "stdout",
     "output_type": "stream",
     "text": [
      "[1, 2, 3, 4]\n"
     ]
    }
   ],
   "source": [
    "# help(list)\n",
    "myList = [1,2,3]\n",
    "myList.append(4)\n",
    "\n",
    "print(myList)\n"
   ]
  },
  {
   "cell_type": "markdown",
   "id": "0cfd914e",
   "metadata": {
    "slideshow": {
     "slide_type": "slide"
    }
   },
   "source": [
    "### NUMPY ARRAYS\n",
    "\n",
    "<img src='numpy.png' width=\"1000\" height=\"300\">\n",
    "\n",
    "* NumPy is a really popular package in Python\n",
    "* Good at handling vectors and matrices in the form of `np.ndarray`'s"
   ]
  },
  {
   "cell_type": "code",
   "execution_count": 2,
   "id": "e77df652",
   "metadata": {
    "slideshow": {
     "slide_type": "subslide"
    }
   },
   "outputs": [],
   "source": [
    "# import numpy\n",
    "import numpy as np\n"
   ]
  },
  {
   "cell_type": "code",
   "execution_count": 58,
   "id": "c00e5d57",
   "metadata": {
    "slideshow": {
     "slide_type": "fragment"
    }
   },
   "outputs": [],
   "source": [
    "# To create numpy arrays, pass an 'iterable' to np.array() method  \n"
   ]
  },
  {
   "cell_type": "markdown",
   "id": "8add21f8",
   "metadata": {
    "slideshow": {
     "slide_type": "fragment"
    }
   },
   "source": [
    "* Lists were essentially 1D: an ordered collection of items\n",
    "\n",
    "* Numpy arrays can be multi-dimensional..."
   ]
  },
  {
   "cell_type": "code",
   "execution_count": 57,
   "id": "d71717d6",
   "metadata": {
    "slideshow": {
     "slide_type": "fragment"
    }
   },
   "outputs": [
    {
     "data": {
      "text/plain": [
       "array([0, 1, 2, 3, 4, 5, 6, 7, 8, 9])"
      ]
     },
     "execution_count": 57,
     "metadata": {},
     "output_type": "execute_result"
    }
   ],
   "source": [
    "# 1d array - boring af\n",
    "oneDArray = np.array([0, 1, 2, 3, 4, 5, 6, 7, 8, 9])\n",
    "oneDArray\n"
   ]
  },
  {
   "cell_type": "code",
   "execution_count": 61,
   "id": "87302eb3",
   "metadata": {
    "slideshow": {
     "slide_type": "fragment"
    }
   },
   "outputs": [
    {
     "name": "stdout",
     "output_type": "stream",
     "text": [
      "[[0 1 2]\n",
      " [3 4 5]]\n"
     ]
    }
   ],
   "source": [
    "# 2d array - big wow\n",
    "twoDArray = np.array([[0, 1, 2], [3, 4, 5]])\n",
    "print(twoDArray)\n"
   ]
  },
  {
   "cell_type": "code",
   "execution_count": 69,
   "id": "a76e63fb",
   "metadata": {
    "slideshow": {
     "slide_type": "slide"
    }
   },
   "outputs": [
    {
     "name": "stdout",
     "output_type": "stream",
     "text": [
      "[[0. 0. 0. 0. 0.]\n",
      " [0. 0. 0. 0. 0.]\n",
      " [0. 0. 0. 0. 0.]\n",
      " [0. 0. 0. 0. 0.]\n",
      " [0. 0. 0. 0. 0.]]\n"
     ]
    }
   ],
   "source": [
    "# special array types\n",
    "myArray = np.zeros((5, 5))\n",
    "print(myArray)\n"
   ]
  },
  {
   "cell_type": "code",
   "execution_count": 83,
   "id": "6f1830d7",
   "metadata": {
    "slideshow": {
     "slide_type": "fragment"
    }
   },
   "outputs": [],
   "source": [
    "# Apply numpy methods to arrays...\n",
    "# e.g. summing elements of an array:\n",
    "myArray = np.array([[0, 1, 2],[3,4,5]])\n"
   ]
  },
  {
   "cell_type": "markdown",
   "id": "aebb556a",
   "metadata": {
    "slideshow": {
     "slide_type": "slide"
    }
   },
   "source": [
    "### Indexing NumPy arrays:\n",
    "\n",
    "* Exactly the same as indexing lists or strings, except this time we need to account for indexing OVER DIFFERENT DIMENSIONS\n"
   ]
  },
  {
   "cell_type": "markdown",
   "id": "e2805e77",
   "metadata": {
    "slideshow": {
     "slide_type": "fragment"
    }
   },
   "source": [
    "\\begin{bmatrix}\n",
    "a_{11} & a_{12} & a_{13}\\\\\n",
    "a_{21} & a_{22} & a_{23}\\\\\n",
    "a_{31} & a_{32} & a_{33}\n",
    "\\end{bmatrix}"
   ]
  },
  {
   "cell_type": "markdown",
   "id": "87a1190b",
   "metadata": {
    "slideshow": {
     "slide_type": "subslide"
    }
   },
   "source": [
    "e.g.\n",
    "$$\n",
    "\\begin{bmatrix}\n",
    "1 & 2 & 3 \\\\\n",
    "4 & 5 & 6 \\\\\n",
    "7 & 8 & 9\n",
    "\\end{bmatrix}\n",
    "$$"
   ]
  },
  {
   "cell_type": "code",
   "execution_count": 102,
   "id": "35a4f299",
   "metadata": {
    "slideshow": {
     "slide_type": "fragment"
    }
   },
   "outputs": [
    {
     "name": "stdout",
     "output_type": "stream",
     "text": [
      "[[1 2 3]\n",
      " [4 5 6]\n",
      " [7 8 9]]\n"
     ]
    }
   ],
   "source": [
    "mat = np.array([[1,2,3],[4,5,6],[7,8,9]])\n",
    "print(mat)\n",
    " "
   ]
  },
  {
   "cell_type": "code",
   "execution_count": 93,
   "id": "26608ac4",
   "metadata": {
    "slideshow": {
     "slide_type": "fragment"
    }
   },
   "outputs": [
    {
     "data": {
      "text/plain": [
       "array([1])"
      ]
     },
     "execution_count": 93,
     "metadata": {},
     "output_type": "execute_result"
    }
   ],
   "source": [
    "# indexing\n",
    "mat[mat<2]\n"
   ]
  },
  {
   "cell_type": "code",
   "execution_count": 106,
   "id": "e8c881c5",
   "metadata": {
    "slideshow": {
     "slide_type": "subslide"
    }
   },
   "outputs": [
    {
     "name": "stdout",
     "output_type": "stream",
     "text": [
      "[[1 2 3]\n",
      " [4 5 6]\n",
      " [7 8 9]] \n",
      "\n",
      "\n",
      "[[1 2 3]\n",
      " [4 1 1]\n",
      " [1 1 1]]\n"
     ]
    }
   ],
   "source": [
    "# broadcasting\n",
    "mat = np.array([[1,2,3],[4,5,6],[7,8,9]])\n",
    "print(mat, '\\n\\n')\n",
    "mat[mat>4]=1\n",
    "print(mat)\n"
   ]
  },
  {
   "cell_type": "code",
   "execution_count": 120,
   "id": "1ea80176",
   "metadata": {
    "slideshow": {
     "slide_type": "fragment"
    }
   },
   "outputs": [],
   "source": [
    "# array manipulations\n",
    "myArray2 = np.array([[1, 2, 3],[4, 5, 6]])\n",
    "myArray3 = np.array([1, 2])\n",
    "\n",
    "\n"
   ]
  },
  {
   "cell_type": "code",
   "execution_count": 121,
   "id": "aef817f8",
   "metadata": {
    "slideshow": {
     "slide_type": "fragment"
    }
   },
   "outputs": [
    {
     "data": {
      "text/plain": [
       "[1, 2, 3, 4, 5, 6, 7, 8, 9]"
      ]
     },
     "execution_count": 121,
     "metadata": {},
     "output_type": "execute_result"
    }
   ],
   "source": [
    "[i for i in range(1,10)]"
   ]
  },
  {
   "cell_type": "code",
   "execution_count": 3,
   "id": "8a577a3a",
   "metadata": {},
   "outputs": [
    {
     "data": {
      "text/plain": [
       "array([1, 4, 9])"
      ]
     },
     "execution_count": 3,
     "metadata": {},
     "output_type": "execute_result"
    }
   ],
   "source": [
    "a = np.array([1, 2, 3])\n",
    "b = np.array([1,2,3])\n",
    "a * b"
   ]
  },
  {
   "cell_type": "code",
   "execution_count": 10,
   "id": "b786ccce",
   "metadata": {},
   "outputs": [
    {
     "data": {
      "text/plain": [
       "14"
      ]
     },
     "execution_count": 10,
     "metadata": {},
     "output_type": "execute_result"
    }
   ],
   "source": []
  },
  {
   "cell_type": "code",
   "execution_count": null,
   "id": "36b8c108",
   "metadata": {},
   "outputs": [],
   "source": []
  }
 ],
 "metadata": {
  "celltoolbar": "Slideshow",
  "kernelspec": {
   "display_name": "Python 3 (ipykernel)",
   "language": "python",
   "name": "python3"
  },
  "language_info": {
   "codemirror_mode": {
    "name": "ipython",
    "version": 3
   },
   "file_extension": ".py",
   "mimetype": "text/x-python",
   "name": "python",
   "nbconvert_exporter": "python",
   "pygments_lexer": "ipython3",
   "version": "3.8.8"
  }
 },
 "nbformat": 4,
 "nbformat_minor": 5
}
