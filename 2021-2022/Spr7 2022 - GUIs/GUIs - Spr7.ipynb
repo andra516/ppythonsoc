{
 "cells": [
  {
   "cell_type": "markdown",
   "id": "c95488e8",
   "metadata": {
    "slideshow": {
     "slide_type": "slide"
    }
   },
   "source": [
    "# Poynting's Python Society Spr7: Graphical User Interfaces\n",
    "#### 17th March 2022"
   ]
  },
  {
   "cell_type": "markdown",
   "id": "e2db57a9",
   "metadata": {
    "slideshow": {
     "slide_type": "slide"
    }
   },
   "source": [
    "#### So far, everything you've written has been LINEAR - program only does what you tell it to IN CODE"
   ]
  },
  {
   "cell_type": "markdown",
   "id": "de51ce46",
   "metadata": {
    "slideshow": {
     "slide_type": "fragment"
    }
   },
   "source": [
    "#### GUIs are different, in that they can RESPOND to you in REAL TIME"
   ]
  },
  {
   "cell_type": "markdown",
   "id": "b4676f3e",
   "metadata": {
    "slideshow": {
     "slide_type": "fragment"
    }
   },
   "source": [
    "### They react to *EVENTS*"
   ]
  },
  {
   "cell_type": "markdown",
   "id": "82340dde",
   "metadata": {
    "slideshow": {
     "slide_type": "slide"
    }
   },
   "source": [
    "### What is a graphical user interface?"
   ]
  },
  {
   "cell_type": "markdown",
   "id": "43f20733",
   "metadata": {
    "slideshow": {
     "slide_type": "fragment"
    }
   },
   "source": [
    "Basic structure:\n",
    "\n",
    "### WINDOW >> INTERACTIVE OBJECTS *or WIDGETS* >> WIDGETS HAVE SPECIFIC LAYOUT >> WIDGETS RESPOND TO EVENTS"
   ]
  },
  {
   "cell_type": "markdown",
   "id": "731e1727",
   "metadata": {
    "slideshow": {
     "slide_type": "subslide"
    }
   },
   "source": [
    "## EVENTS\n",
    "\n",
    "* Python repeatedly checks for certain 'actions' or *EVENTS*, e.g. the click of your mouse/keyboard press etc..."
   ]
  },
  {
   "cell_type": "markdown",
   "id": "b13dd2ed",
   "metadata": {
    "slideshow": {
     "slide_type": "fragment"
    }
   },
   "source": [
    "* When it detects an 'event', it emits a *SIGNAL*"
   ]
  },
  {
   "cell_type": "markdown",
   "id": "109df0e5",
   "metadata": {
    "slideshow": {
     "slide_type": "fragment"
    }
   },
   "source": [
    "* Signals are be *connected* to *SLOTS* - functions to be executed when signal is recieved."
   ]
  },
  {
   "cell_type": "markdown",
   "id": "c8227254",
   "metadata": {
    "slideshow": {
     "slide_type": "fragment"
    }
   },
   "source": [
    "<figure>\n",
    "    <img width=1000pt src=\"slots and signals.png\">\n",
    "</figure>"
   ]
  },
  {
   "cell_type": "markdown",
   "id": "d7dc9639",
   "metadata": {
    "slideshow": {
     "slide_type": "subslide"
    }
   },
   "source": [
    "#### How do you actually create a GUI?\n",
    "\n",
    "* Number of different packages that can detect events, create windows, widgets etc."
   ]
  },
  {
   "cell_type": "markdown",
   "id": "918f8611",
   "metadata": {
    "slideshow": {
     "slide_type": "fragment"
    }
   },
   "source": [
    "We'll be using `PyQt5`"
   ]
  },
  {
   "cell_type": "markdown",
   "id": "4d710c06",
   "metadata": {
    "slideshow": {
     "slide_type": "fragment"
    }
   },
   "source": [
    "* `PyQt5` is actually a 'python wrapper' for a C++ program, `Qt` - trying to read the Qt for Python documentation is a VERY steep learning curve"
   ]
  },
  {
   "cell_type": "markdown",
   "id": "36e3fa9a",
   "metadata": {
    "slideshow": {
     "slide_type": "subslide"
    }
   },
   "source": [
    "* Your GUI assignment won't actually need you to understand how PyQT works in too much detail\n",
    "\n",
    "* You do need to understand *events* and *plotting and updating matplotlib widgets*"
   ]
  },
  {
   "cell_type": "markdown",
   "id": "ca790db6",
   "metadata": {
    "slideshow": {
     "slide_type": "fragment"
    }
   },
   "source": [
    "* THIS IS THE ONE TIME I'LL TELL YOU TO NOT READ DOCUMENTATION - not right away anyway ;)"
   ]
  },
  {
   "cell_type": "markdown",
   "id": "9bd40072",
   "metadata": {
    "slideshow": {
     "slide_type": "fragment"
    }
   },
   "source": [
    "* Instead, I'd recommend:\n",
    "\n",
    "> TESTING EVENTS FOR YOURSELF - e.g. what data types are involved, what attributes does an `event` have?\n",
    "\n",
    "> Try not to get too bogged down in the 'PyQt' bits - just ACCEPT ITS THERE AND MOVE ON "
   ]
  },
  {
   "cell_type": "markdown",
   "id": "394bec2b",
   "metadata": {
    "slideshow": {
     "slide_type": "subslide"
    }
   },
   "source": [
    "* If you actually want to learn how PyQt works, I'd recommend the following:\n",
    "\n",
    "> PythonGUIs.com: https://www.pythonguis.com/pyqt5-tutorial/ - this course is genuinely amazing\n",
    "\n",
    "> ZetCode tutorials: https://zetcode.com/gui/pyqt5/ - shit format, but still does the job"
   ]
  },
  {
   "cell_type": "markdown",
   "id": "8895b5bf",
   "metadata": {
    "slideshow": {
     "slide_type": "slide"
    }
   },
   "source": [
    "### TYPES OF Qt EVENTS\n"
   ]
  },
  {
   "cell_type": "markdown",
   "id": "359324ff",
   "metadata": {
    "slideshow": {
     "slide_type": "fragment"
    }
   },
   "source": [
    "\n",
    "<figure>\n",
    "    <img width=2000pt src=\"types of events.png\">\n",
    "</figure>"
   ]
  },
  {
   "cell_type": "markdown",
   "id": "7a13bded",
   "metadata": {
    "slideshow": {
     "slide_type": "fragment"
    }
   },
   "source": [
    "For each of these, we'll need to connect the RIGHT SIGNALS TO THE RIGHT SLOTS!"
   ]
  },
  {
   "cell_type": "markdown",
   "id": "e3260eee",
   "metadata": {
    "slideshow": {
     "slide_type": "subslide"
    }
   },
   "source": [
    "### WHACK-A-MOLE\n",
    "\n",
    "Create a game of whackamole on a matplotlib figure.\n",
    "\n",
    "* Mole that jumps to a random hole every $t$ seconds\n",
    "* We have to click on the mole to splat it - splatting it will make it disappear\n",
    "\n",
    "<figure>\n",
    "    <img width=500pt src=\"whackamole.png\">\n",
    "</figure>\n",
    "\n",
    "* COPY WOLFGANG's CODE "
   ]
  },
  {
   "cell_type": "markdown",
   "id": "7dc7c3de",
   "metadata": {
    "slideshow": {
     "slide_type": "slide"
    }
   },
   "source": [
    "# SUMMARY:\n",
    "\n",
    "* Don't be afraid to copy code - you don't need to know the ins-and-outs of PyQt - *only how events and matplotlib widgets work.*\n",
    "\n"
   ]
  },
  {
   "cell_type": "markdown",
   "id": "aaf80eff",
   "metadata": {
    "slideshow": {
     "slide_type": "fragment"
    }
   },
   "source": [
    "* If you're unsure about what a particular event does - test with print statements!"
   ]
  },
  {
   "cell_type": "markdown",
   "id": "e1b5f631",
   "metadata": {
    "slideshow": {
     "slide_type": "fragment"
    }
   },
   "source": [
    "* Plotting on matplotlib widgets: use `Line2D` objects and UPDATE attributes rather than starting over with the plot - this makes it speedier!"
   ]
  },
  {
   "cell_type": "markdown",
   "id": "171bf661",
   "metadata": {
    "slideshow": {
     "slide_type": "fragment"
    }
   },
   "source": []
  }
 ],
 "metadata": {
  "celltoolbar": "Slideshow",
  "kernelspec": {
   "display_name": "Python 3 (ipykernel)",
   "language": "python",
   "name": "python3"
  },
  "language_info": {
   "codemirror_mode": {
    "name": "ipython",
    "version": 3
   },
   "file_extension": ".py",
   "mimetype": "text/x-python",
   "name": "python",
   "nbconvert_exporter": "python",
   "pygments_lexer": "ipython3",
   "version": "3.8.8"
  }
 },
 "nbformat": 4,
 "nbformat_minor": 5
}
